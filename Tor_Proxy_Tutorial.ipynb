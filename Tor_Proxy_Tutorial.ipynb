{
  "nbformat": 4,
  "nbformat_minor": 0,
  "metadata": {
    "colab": {
      "name": "Tor Proxy  Tutorial.ipynb",
      "provenance": [],
      "collapsed_sections": [],
      "include_colab_link": true
    },
    "kernelspec": {
      "name": "python3",
      "display_name": "Python 3"
    }
  },
  "cells": [
    {
      "cell_type": "markdown",
      "metadata": {
        "id": "view-in-github",
        "colab_type": "text"
      },
      "source": [
        "<a href=\"https://colab.research.google.com/github/vuviethung1998/10-steps-to-become-a-data-scientist/blob/master/Tor_Proxy_Tutorial.ipynb\" target=\"_parent\"><img src=\"https://colab.research.google.com/assets/colab-badge.svg\" alt=\"Open In Colab\"/></a>"
      ]
    },
    {
      "cell_type": "markdown",
      "metadata": {
        "id": "N_rAPCdRClB5",
        "colab_type": "text"
      },
      "source": [
        "## Article \n",
        "\n",
        "https://www.kaggle.com/getting-started/45130\n",
        "\n",
        "https://blog.michaelyin.info/scrapy-socket-proxy/\n",
        "\n",
        "https://pkmishra.github.io/blog/2013/03/18/how-to-run-scrapy-with-TOR-and-multiple-browser-agents-part-1-mac/\n",
        "\n",
        "https://stackoverflow.com/questions/45009940/scrapy-with-privoxy-and-tor-how-to-renew-ip\n",
        "\n",
        "http://akul.me/blog/2017/proxy-cheatsheet/"
      ]
    },
    {
      "cell_type": "markdown",
      "metadata": {
        "id": "ThoVo0v3DGVK",
        "colab_type": "text"
      },
      "source": [
        "## Proxy Server\n",
        "\n"
      ]
    },
    {
      "cell_type": "markdown",
      "metadata": {
        "id": "4VDm_C0i-jED",
        "colab_type": "text"
      },
      "source": [
        "##Install Tor "
      ]
    },
    {
      "cell_type": "markdown",
      "metadata": {
        "id": "tPkBczQkDbLG",
        "colab_type": "text"
      },
      "source": [
        "**Definition**\n",
        "\n",
        "Tor works on socks5 proxy\n",
        "\n",
        "With machine do not support socks5, we will install proxy wrapper on Tor's socks5 proxy - Privoxy"
      ]
    },
    {
      "cell_type": "markdown",
      "metadata": {
        "id": "aaBEilcQ-jGu",
        "colab_type": "text"
      },
      "source": [
        "**Command**\n",
        "\n",
        "sudo apt install tor\n",
        "\n",
        "tor"
      ]
    },
    {
      "cell_type": "markdown",
      "metadata": {
        "id": "G5JrxEa8-jJi",
        "colab_type": "text"
      },
      "source": [
        "## Install Privoxy\n",
        "\n"
      ]
    },
    {
      "cell_type": "markdown",
      "metadata": {
        "id": "CINgJiDD-jOc",
        "colab_type": "text"
      },
      "source": [
        "### Definition\n",
        "\n"
      ]
    },
    {
      "cell_type": "markdown",
      "metadata": {
        "id": "oDAdFPgC-jS2",
        "colab_type": "text"
      },
      "source": [
        ""
      ]
    },
    {
      "cell_type": "markdown",
      "metadata": {
        "id": "E0TdpEk--jcH",
        "colab_type": "text"
      },
      "source": [
        "### Code"
      ]
    },
    {
      "cell_type": "markdown",
      "metadata": {
        "id": "dO_keerY-jup",
        "colab_type": "text"
      },
      "source": [
        "sudo apt-get install privoxy\n",
        "\n"
      ]
    },
    {
      "cell_type": "markdown",
      "metadata": {
        "id": "QlCJLFlv-jre",
        "colab_type": "text"
      },
      "source": [
        "### Forward traffic(http/https) to Tor (socks5)\n",
        "\n",
        "- Edit /etc/privoxy/config on Ubuntu\n",
        "\n",
        "- Uncomment follow line: **forward-socks5t   /               127.0.0.1:9050 .**\n",
        "\n",
        "- Restart the tor and privoxy service.\n",
        "\n",
        "  - sudo service tor restart\n",
        "\n",
        "  - sudo service privoxy restart\n",
        "\n",
        "Socks5 port (Tor) will be 8118. HTTP/HTTPS port (Privoxy) will be 9150(9050), which would be forwarded to Tor"
      ]
    },
    {
      "cell_type": "markdown",
      "metadata": {
        "id": "eHjOYJeF-jo-",
        "colab_type": "text"
      },
      "source": [
        "## Config MiddleWare in Scrapy"
      ]
    },
    {
      "cell_type": "markdown",
      "metadata": {
        "id": "BAar4-jF-jmq",
        "colab_type": "text"
      },
      "source": [
        "### Middleware là gì?\n",
        "\n"
      ]
    },
    {
      "cell_type": "markdown",
      "metadata": {
        "id": "4na2q51QIlek",
        "colab_type": "text"
      },
      "source": [
        "Middleware là nơi để điều chỉnh cách thức mà scrapy xử lý request và response (xử lý caching, proxy, redirect, cookies, setting user-agent header ), cũng như xử lý các input và output đi qua spider (giới hạn request xử lý, ...)"
      ]
    },
    {
      "cell_type": "markdown",
      "metadata": {
        "id": "LIOoysdB-jkX",
        "colab_type": "text"
      },
      "source": [
        "- Download middlewares: \n",
        "\n",
        "- Spider middlewares: "
      ]
    },
    {
      "cell_type": "markdown",
      "metadata": {
        "id": "757gC06uMdIx",
        "colab_type": "text"
      },
      "source": [
        "### middleware.py"
      ]
    },
    {
      "cell_type": "markdown",
      "metadata": {
        "id": "1A8AzIY1-jiO",
        "colab_type": "text"
      },
      "source": [
        "For Scrapy, create a middleware to change user agent for every request and use proxy."
      ]
    },
    {
      "cell_type": "code",
      "metadata": {
        "id": "U78sQ6uwMYQq",
        "colab_type": "code",
        "colab": {}
      },
      "source": [
        "import os\n",
        "import random\n",
        "from scrapy import signals\n",
        "from scrapy.conf import settings\n",
        "\n",
        "\n",
        "class RandomUserAgentMiddleware(object):\n",
        "    def process_request(self, request, spider):\n",
        "        ua = random.choice(settings.get('USER_AGENT_LIST'))\n",
        "        if ua:\n",
        "            request.headers.setdefault('User-Agent', ua)\n",
        "            \n",
        "class ProxyMiddleware(object):\n",
        "\n",
        "    def process_request(self, request, spider):\n",
        "        request.meta['proxy'] = settings.get('HTTP_PROXY')\n"
      ],
      "execution_count": 0,
      "outputs": []
    },
    {
      "cell_type": "markdown",
      "metadata": {
        "id": "h7AKHPz6-jaK",
        "colab_type": "text"
      },
      "source": [
        "### settings.py"
      ]
    },
    {
      "cell_type": "markdown",
      "metadata": {
        "id": "hIx0oo-9NPVF",
        "colab_type": "text"
      },
      "source": [
        "#### Definition \n",
        "A user agent is a string that a browser or app sends to each website you visit. A typical user agent string contains details like – the application type, operating system, software vendor or software version of the requesting software user agent. Web servers use this data to assess the capabilities of your computer, optimizing a page’s performance and display. User Agents are sent as a request header called “User-Agent”.\n",
        "\n"
      ]
    },
    {
      "cell_type": "code",
      "metadata": {
        "id": "DAGVAVEQMsPD",
        "colab_type": "code",
        "colab": {}
      },
      "source": [
        "USER_AGENT_LIST = [\n",
        "    'Mozilla/5.0 (Windows NT 6.1; WOW64) AppleWebKit/535.7 (KHTML, like Gecko) Chrome/16.0.912.36 Safari/535.7',\n",
        "    'Mozilla/5.0 (Windows NT 6.2; Win64; x64; rv:16.0) Gecko/16.0 Firefox/16.0',\n",
        "    'Mozilla/5.0 (Macintosh; Intel Mac OS X 10_7_3) AppleWebKit/534.55.3 (KHTML, like Gecko) Version/5.1.3 Safari/534.53.10'\n",
        "]\n",
        "# proxy for polipo\n",
        "# HTTP_PROXY = 'http://127.0.0.1:8123'\n",
        "# proxy for privoxy\n",
        "HTTP_PROXY = 'http://127.0.0.1:8118'\n",
        "\n",
        "# Enable or disable downloader middlewares\n",
        "DOWNLOADER_MIDDLEWARES = {\n",
        "    'scraper_name.middlewares.RandomUserAgentMiddleware': 400,\n",
        "    'scraper_name.middlewares.ProxyMiddleware': 410,\n",
        "    'scrapy.downloadermiddlewares.useragent.UserAgentMiddleware': None\n",
        "}\n"
      ],
      "execution_count": 0,
      "outputs": []
    },
    {
      "cell_type": "markdown",
      "metadata": {
        "id": "ezOwvm1w-jYL",
        "colab_type": "text"
      },
      "source": [
        "## Test-spider to see if proxy is applied"
      ]
    },
    {
      "cell_type": "code",
      "metadata": {
        "id": "HrvqaILKOidP",
        "colab_type": "code",
        "colab": {}
      },
      "source": [
        "try_tor.py\n",
        "\n",
        "# -*- coding: utf-8 -*-\n",
        "import time\n",
        "import scrapy\n",
        "import requests as r\n",
        "\n",
        "class TryTorSpider(scrapy.Spider):\n",
        "    name = 'try_tor'\n",
        "    allowed_domains = ['check.torproject.org']\n",
        "    start_urls = ['http://check.torproject.org/']\n",
        "\n",
        "    def parse(self, response):\n",
        "        print(response.css('.content').extract_first()) \n"
      ],
      "execution_count": 0,
      "outputs": []
    }
  ]
}